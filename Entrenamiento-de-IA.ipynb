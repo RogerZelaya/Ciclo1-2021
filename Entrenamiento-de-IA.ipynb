{
  "nbformat": 4,
  "nbformat_minor": 0,
  "metadata": {
    "colab": {
      "name": "EntreIA.ipynb",
      "provenance": [],
      "include_colab_link": true
    },
    "kernelspec": {
      "name": "python3",
      "display_name": "Python 3"
    },
    "language_info": {
      "name": "python"
    }
  },
  "cells": [
    {
      "cell_type": "markdown",
      "metadata": {
        "id": "view-in-github",
        "colab_type": "text"
      },
      "source": [
        "<a href=\"https://colab.research.google.com/github/RogerZelaya/PROGRAMACION--lll/blob/main/Entrenamiento-de-IA.ipynb\" target=\"_parent\"><img src=\"https://colab.research.google.com/assets/colab-badge.svg\" alt=\"Open In Colab\"/></a>"
      ]
    },
    {
      "cell_type": "markdown",
      "metadata": {
        "id": "g4acIsybUmjP"
      },
      "source": [
        "# **LONGITUDES**"
      ]
    },
    {
      "cell_type": "code",
      "metadata": {
        "id": "ek7kxHxlTdrH"
      },
      "source": [
        "#importacion de librerias a utilizar\n",
        "import tensorflow as tf\n",
        "import pandas as pd\n",
        "import matplotlib.pyplot as plt\n",
        "import seaborn as sns"
      ],
      "execution_count": 67,
      "outputs": []
    },
    {
      "cell_type": "code",
      "metadata": {
        "id": "aUwdvtWSUsMZ"
      },
      "source": [
        "#leer los datos de entrenamiento\n",
        "MC = pd.read_csv(\"/content/Longitudes1.csv\", sep=\";\")"
      ],
      "execution_count": 68,
      "outputs": []
    },
    {
      "cell_type": "code",
      "metadata": {
        "id": "ziifWeI6U1TL"
      },
      "source": [
        "#separar los datos de entrada y salida\n",
        "M = MC[\"metro\"]\n",
        "C = MC[\"centimetro\"]"
      ],
      "execution_count": 69,
      "outputs": []
    },
    {
      "cell_type": "code",
      "metadata": {
        "id": "KAvsGaaVU6Y1"
      },
      "source": [
        "#creando el modelo de entrenamiento\n",
        "modelo = tf.keras.Sequential()\n",
        "modelo.add(tf.keras.layers.Dense(units=1, input_shape=[1]))"
      ],
      "execution_count": 70,
      "outputs": []
    },
    {
      "cell_type": "code",
      "metadata": {
        "id": "o-V0GamwU_GB"
      },
      "source": [
        "#compilar el modelo de entrenamiento\n",
        "modelo.compile(optimizer=tf.keras.optimizers.Adam(1),loss='mean_squared_error')"
      ],
      "execution_count": 71,
      "outputs": []
    },
    {
      "cell_type": "code",
      "metadata": {
        "id": "WeQaWDrZVAXe"
      },
      "source": [
        "#entrenar el modelo de IA METROS A CENTIMETROS\n",
        "hisotiral = modelo.fit(C,M,epochs=500, verbose=0)"
      ],
      "execution_count": 72,
      "outputs": []
    },
    {
      "cell_type": "code",
      "metadata": {
        "id": "RsLt0DMGVD5m",
        "colab": {
          "base_uri": "https://localhost:8080/"
        },
        "outputId": "6a4b4531-c3ac-415b-ab0e-1b2889d61107"
      },
      "source": [
        "CM = modelo.predict([671])\n",
        "print(CM)"
      ],
      "execution_count": 73,
      "outputs": [
        {
          "output_type": "stream",
          "name": "stdout",
          "text": [
            "[[nan]]\n"
          ]
        }
      ]
    },
    {
      "cell_type": "code",
      "metadata": {
        "id": "-QZ8B9aqtW0S"
      },
      "source": [
        "MC = pd.read_csv(\"/content/Longitudes1.csv\", sep=\";\")"
      ],
      "execution_count": 74,
      "outputs": []
    },
    {
      "cell_type": "code",
      "metadata": {
        "id": "isrxMMYwtaDA"
      },
      "source": [
        "modelo = tf.keras.Sequential()\n",
        "modelo.add(tf.keras.layers.Dense(units=1, input_shape=[1]))"
      ],
      "execution_count": 75,
      "outputs": []
    },
    {
      "cell_type": "code",
      "metadata": {
        "id": "YDNxTQLttggL"
      },
      "source": [
        "modelo.compile(optimizer=tf.keras.optimizers.Adam(1),loss='mean_squared_error')\n"
      ],
      "execution_count": 76,
      "outputs": []
    },
    {
      "cell_type": "code",
      "metadata": {
        "colab": {
          "base_uri": "https://localhost:8080/"
        },
        "id": "AJa1APmzVMoz",
        "outputId": "a9a70f1f-f50f-43d0-ec5c-7ec098b503ba"
      },
      "source": [
        "etiquetas = [\n",
        "           [],\n",
        "           [\"1. METROS\", \"2. CENTIMETROS\", \"3. PULGADA\", \"4. PIE\", \"5. YARDA\", \"6. KILOMETRO\", \"7. MILLA\"],\n",
        "           []\n",
        "]\n",
        "\n",
        "print(\"MENU\")\n",
        "print(\"1 = LONGITUD\")\n",
        "\n",
        "conversor = int(input(\"Conversor: \"))\n",
        "\n",
        "print( etiquetas[conversor] )\n",
        "\n",
        "de = int(input(\"DE: \"))\n",
        "a = int(input(\"A: \"))\n",
        "cantidad = float(input(\"Cant: \"))\n",
        "\n",
        "if de==1:\n",
        "  X = MC[\"metro\"]\n",
        "if a==1:\n",
        "  Y = MC[\"metro\"]\n",
        "\n",
        "if de==2:\n",
        "  X = MC[\"centimetro\"]\n",
        "if a==2:\n",
        "  Y = MC[\"centimetro\"]\n",
        "\n",
        "if de==3:\n",
        "  X = MC[\"pulgada\"]\n",
        "if a==3:\n",
        "  Y = MC[\"pulgada\"]\n",
        "\n",
        "  if de==4:\n",
        "    X = MC[\"pie\"]\n",
        "if a==4:\n",
        "  Y = MC[\"pie\"]\n",
        "\n",
        "  if de==5:\n",
        "    X = MC[\"yarda\"]\n",
        "if a==5:\n",
        "  Y = MC[\"yarda\"]\n",
        "\n",
        "  if de==6:\n",
        "    X = MC[\"kilometro\"]\n",
        "if a==6:\n",
        "  Y = MC[\"kilometro\"]\n",
        "\n",
        "  if de==7:\n",
        "    X = MC[\"milla\"]\n",
        "if a==7:\n",
        "  Y = MC[\"milla\"]\n",
        "\n",
        "hisotiral = modelo.fit(X,Y,epochs=300, verbose=0)\n",
        "RES = modelo.predict([cantidad])\n",
        "print(RES)"
      ],
      "execution_count": null,
      "outputs": [
        {
          "output_type": "stream",
          "name": "stdout",
          "text": [
            "MENU\n",
            "1 = LONGITUD\n",
            "Conversor: 1\n",
            "['1. METROS', '2. CENTIMETROS', '3. PULGADA', '4. PIE', '5. YARDA', '6. KILOMETRO', '7. MILLA']\n",
            "DE: 4\n",
            "A: 6\n",
            "Cant: 410.125\n",
            "[[0.12563297]]\n"
          ]
        }
      ]
    },
    {
      "cell_type": "markdown",
      "metadata": {
        "id": "GTQLEV9SheVv"
      },
      "source": [
        "# **ALMACENAMIENTO**"
      ]
    },
    {
      "cell_type": "code",
      "metadata": {
        "id": "2lm3zepHhwTh"
      },
      "source": [
        "#importacion de librerias a utilizar\n",
        "import tensorflow as tf\n",
        "import pandas as pd\n",
        "import matplotlib.pyplot as plt\n",
        "import seaborn as sns"
      ],
      "execution_count": 77,
      "outputs": []
    },
    {
      "cell_type": "code",
      "metadata": {
        "id": "YOcBlOqAhyTU"
      },
      "source": [
        "#leer los datos de entrenamiento\n",
        "MC = pd.read_csv(\"/content/Longitudes1.csv\", sep=\";\")"
      ],
      "execution_count": 78,
      "outputs": []
    },
    {
      "cell_type": "code",
      "metadata": {
        "id": "Ejd6_NYph6TX"
      },
      "source": [
        "#separar los datos de entrada y salida\n",
        "M = MC[\"megabyte\"]\n",
        "K = MC[\"kilobyte\"]"
      ],
      "execution_count": 79,
      "outputs": []
    },
    {
      "cell_type": "code",
      "metadata": {
        "id": "MK56s68FjMsx"
      },
      "source": [
        "#creando el modelo de entrenamiento\n",
        "modelo = tf.keras.Sequential()\n",
        "modelo.add(tf.keras.layers.Dense(units=1, input_shape=[1]))"
      ],
      "execution_count": 80,
      "outputs": []
    },
    {
      "cell_type": "code",
      "metadata": {
        "id": "R8jX1d9BjXVy"
      },
      "source": [
        "#compilar el modelo de entrenamiento\n",
        "modelo.compile(optimizer=tf.keras.optimizers.Adam(1),loss='mean_squared_error')"
      ],
      "execution_count": 81,
      "outputs": []
    },
    {
      "cell_type": "code",
      "metadata": {
        "id": "4OG7gDv8jZVb"
      },
      "source": [
        "#entrenar el modelo de IA MEGABYTE A KILOBYTE\n",
        "hisotiral = modelo.fit(M,K,epochs=500, verbose=0)"
      ],
      "execution_count": 83,
      "outputs": []
    },
    {
      "cell_type": "code",
      "metadata": {
        "colab": {
          "base_uri": "https://localhost:8080/"
        },
        "id": "d-bgTd1EjsZv",
        "outputId": "f1ab6d6e-1f74-444f-e4d1-cacca1c2934c"
      },
      "source": [
        "CM = modelo.predict([671])\n",
        "print(CM)"
      ],
      "execution_count": 84,
      "outputs": [
        {
          "output_type": "stream",
          "name": "stdout",
          "text": [
            "WARNING:tensorflow:5 out of the last 24 calls to <function Model.make_predict_function.<locals>.predict_function at 0x7fe3a0d07d40> triggered tf.function retracing. Tracing is expensive and the excessive number of tracings could be due to (1) creating @tf.function repeatedly in a loop, (2) passing tensors with different shapes, (3) passing Python objects instead of tensors. For (1), please define your @tf.function outside of the loop. For (2), @tf.function has experimental_relax_shapes=True option that relaxes argument shapes that can avoid unnecessary retracing. For (3), please refer to https://www.tensorflow.org/guide/function#controlling_retracing and https://www.tensorflow.org/api_docs/python/tf/function for  more details.\n",
            "[[669669.6]]\n"
          ]
        }
      ]
    },
    {
      "cell_type": "code",
      "metadata": {
        "id": "ugwqRcNTj-v8"
      },
      "source": [
        "MC = pd.read_csv(\"/content/Longitudes1.csv\", sep=\";\")"
      ],
      "execution_count": 85,
      "outputs": []
    },
    {
      "cell_type": "code",
      "metadata": {
        "id": "w2DfVlR6kVrt"
      },
      "source": [
        "modelo = tf.keras.Sequential()\n",
        "modelo.add(tf.keras.layers.Dense(units=1, input_shape=[1]))"
      ],
      "execution_count": 86,
      "outputs": []
    },
    {
      "cell_type": "code",
      "metadata": {
        "id": "dRMt09cnkXoT"
      },
      "source": [
        "modelo.compile(optimizer=tf.keras.optimizers.Adam(1),loss='mean_squared_error')"
      ],
      "execution_count": 87,
      "outputs": []
    },
    {
      "cell_type": "code",
      "metadata": {
        "id": "fIgkpJEIkcRH"
      },
      "source": [
        "etiquetas = [\n",
        "           [],\n",
        "           [\"1. MEGABYTE\", \"2. KILOBYTE\", \"3. GIGABYTE\", \"4. TERABYTE\", \"5. PETABYTE\"],\n",
        "           []\n",
        "]\n",
        "\n",
        "print(\"MENU\")\n",
        "print(\"1 = ALMACENAMIENTO\")\n",
        "\n",
        "conversor = int(input(\"Conversor: \"))\n",
        "\n",
        "print( etiquetas[conversor] )\n",
        "\n",
        "de = int(input(\"DE: \"))\n",
        "a = int(input(\"A: \"))\n",
        "cantidad = float(input(\"Cant: \"))\n",
        "\n",
        "if de==1:\n",
        "  X = MC[\"megabyte\"]\n",
        "if a==1:\n",
        "  Y = MC[\"megabyte\"]\n",
        "\n",
        "if de==2:\n",
        "  X = MC[\"kilobyte\"]\n",
        "if a==2:\n",
        "  Y = MC[\"kilobyte\"]\n",
        "\n",
        "if de==3:\n",
        "  X = MC[\"gigabyte\"]\n",
        "if a==3:\n",
        "  Y = MC[\"gigabyte\"]\n",
        "\n",
        "  if de==4:\n",
        "    X = MC[\"terabyte\"]\n",
        "if a==4:\n",
        "  Y = MC[\"terabyte\"]\n",
        "\n",
        "  if de==5:\n",
        "    X = MC[\"petabyte\"]\n",
        "if a==5:\n",
        "  Y = MC[\"petabyte\"]\n",
        "\n",
        "hisotiral = modelo.fit(X,Y,epochs=309, verbose=0)\n",
        "RES = modelo.predict([cantidad])\n",
        "print(RES)"
      ],
      "execution_count": null,
      "outputs": []
    },
    {
      "cell_type": "markdown",
      "metadata": {
        "id": "AWKkz8Y43O6q"
      },
      "source": [
        "# **MASA**"
      ]
    },
    {
      "cell_type": "code",
      "metadata": {
        "id": "UXfqe1Az3VCh"
      },
      "source": [
        "#importacion de librerias a utilizar\n",
        "import tensorflow as tf\n",
        "import pandas as pd\n",
        "import matplotlib.pyplot as plt\n",
        "import seaborn as sns"
      ],
      "execution_count": 51,
      "outputs": []
    },
    {
      "cell_type": "code",
      "metadata": {
        "id": "Nu_emCbc3X4h"
      },
      "source": [
        "#leer los datos de entrenamiento\n",
        "MaC = pd.read_csv(\"/content/Longitudes1.csv\", sep=\";\")"
      ],
      "execution_count": 52,
      "outputs": []
    },
    {
      "cell_type": "code",
      "metadata": {
        "id": "i31yyqYE3adC"
      },
      "source": [
        "#separar los datos de entrada y salida\n",
        "K = MaC[\"kilogramo\"]\n",
        "G = MaC[\"gramo\"]"
      ],
      "execution_count": 53,
      "outputs": []
    },
    {
      "cell_type": "code",
      "metadata": {
        "id": "ngZVu9cj3hly"
      },
      "source": [
        "#creando el modelo de entrenamiento\n",
        "model = tf.keras.Sequential()\n",
        "model.add(tf.keras.layers.Dense(units=1, input_shape=[1]))"
      ],
      "execution_count": 54,
      "outputs": []
    },
    {
      "cell_type": "code",
      "metadata": {
        "id": "_rb_kdKj3k4i"
      },
      "source": [
        "#compilar el modelo de entrenamiento\n",
        "model.compile(optimizer=tf.keras.optimizers.Adam(1),loss='mean_squared_error')"
      ],
      "execution_count": 55,
      "outputs": []
    },
    {
      "cell_type": "code",
      "metadata": {
        "id": "v2YG9OCw3nYC"
      },
      "source": [
        "#entrenar el modelo de IA \n",
        "hisotira = model.fit(K,G,epochs=800, verbose=0)"
      ],
      "execution_count": 56,
      "outputs": []
    },
    {
      "cell_type": "code",
      "metadata": {
        "id": "ztM_MauV3n4a",
        "colab": {
          "base_uri": "https://localhost:8080/"
        },
        "outputId": "76296d16-6756-4414-85ab-f560e22b48dd"
      },
      "source": [
        "CM = model.predict([671])\n",
        "print(CM)"
      ],
      "execution_count": 57,
      "outputs": [
        {
          "output_type": "stream",
          "name": "stdout",
          "text": [
            "[[670119.2]]\n"
          ]
        }
      ]
    },
    {
      "cell_type": "code",
      "metadata": {
        "id": "lu-PMyM23sD6"
      },
      "source": [
        "MC = pd.read_csv(\"/content/Longitudes1.csv\", sep=\";\")"
      ],
      "execution_count": 58,
      "outputs": []
    },
    {
      "cell_type": "code",
      "metadata": {
        "id": "sTwM-POyNnCg"
      },
      "source": [
        "modelo = tf.keras.Sequential()\n",
        "modelo.add(tf.keras.layers.Dense(units=1, input_shape=[1]))"
      ],
      "execution_count": 59,
      "outputs": []
    },
    {
      "cell_type": "code",
      "metadata": {
        "id": "WII9oCEqNnWP"
      },
      "source": [
        "modelo.compile(optimizer=tf.keras.optimizers.Adam(1),loss='mean_squared_error')"
      ],
      "execution_count": 60,
      "outputs": []
    },
    {
      "cell_type": "code",
      "metadata": {
        "id": "rw8x1FsThF47",
        "colab": {
          "base_uri": "https://localhost:8080/"
        },
        "outputId": "ce5d37f8-b133-4eb9-90b1-4f8bb9630201"
      },
      "source": [
        "etiquetas = [\n",
        "           [],\n",
        "           [\"1. KILOGRAMO\", \"2. GRAMO\", \"3. LIBRA\", \"4. ONZA\", \"5. TONELADA\"],\n",
        "           []\n",
        "]\n",
        "\n",
        "print(\"MENU\")\n",
        "print(\"1 = MASA\")\n",
        "\n",
        "conversor = int(input(\"Conversor: \"))\n",
        "\n",
        "print( etiquetas[conversor] )\n",
        "\n",
        "de = int(input(\"DE: \"))\n",
        "a = int(input(\"A: \"))\n",
        "cantidad = float(input(\"Cant: \"))\n",
        "\n",
        "if de==1:\n",
        "  X = MC[\"kilogramo\"]\n",
        "if a==1:\n",
        "  Y = MC[\"kilogramo\"]\n",
        "\n",
        "if de==2:\n",
        "  X = MC[\"gramo\"]\n",
        "if a==2:\n",
        "  Y = MC[\"gramo\"]\n",
        "\n",
        "if de==3:\n",
        "  X = MC[\"libra\"]\n",
        "if a==3:\n",
        "  Y = MC[\"libra\"]\n",
        "\n",
        "  if de==4:\n",
        "    X = MC[\"onza\"]\n",
        "if a==4:\n",
        "  Y = MC[\"onza\"]\n",
        "\n",
        "  if de==5:\n",
        "    X = MC[\"tonelada\"]\n",
        "if a==5:\n",
        "  Y = MC[\"tonelada\"]\n",
        "\n",
        "hisotiral = modelo.fit(X,Y,epochs=370, verbose=0)\n",
        "RES = modelo.predict([cantidad])\n",
        "print(RES)"
      ],
      "execution_count": 65,
      "outputs": [
        {
          "output_type": "stream",
          "name": "stdout",
          "text": [
            "MENU\n",
            "1 = MASA\n",
            "Conversor: 1\n",
            "['1. KILOGRAMO', '2. GRAMO', '3. LIBRA', '4. ONZA', '5. TONELADA']\n",
            "DE: 1\n",
            "A: 2\n",
            "Cant: 2\n",
            "[[2000.2434]]\n"
          ]
        }
      ]
    }
  ]
}