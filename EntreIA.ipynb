{
  "nbformat": 4,
  "nbformat_minor": 0,
  "metadata": {
    "colab": {
      "name": "EntreIA.ipynb",
      "provenance": [],
      "authorship_tag": "ABX9TyOpCqAC1SBoeF2uicSO/U1x",
      "include_colab_link": true
    },
    "kernelspec": {
      "name": "python3",
      "display_name": "Python 3"
    },
    "language_info": {
      "name": "python"
    }
  },
  "cells": [
    {
      "cell_type": "markdown",
      "metadata": {
        "id": "view-in-github",
        "colab_type": "text"
      },
      "source": [
        "<a href=\"https://colab.research.google.com/github/RogerZelaya/Ciclo1-2021/blob/main/EntreIA.ipynb\" target=\"_parent\"><img src=\"https://colab.research.google.com/assets/colab-badge.svg\" alt=\"Open In Colab\"/></a>"
      ]
    },
    {
      "cell_type": "markdown",
      "metadata": {
        "id": "g4acIsybUmjP"
      },
      "source": [
        "Longitudes"
      ]
    },
    {
      "cell_type": "code",
      "metadata": {
        "id": "ek7kxHxlTdrH"
      },
      "source": [
        "#importacion de librerias a utilizar\n",
        "import tensorflow as tf\n",
        "import pandas as pd\n",
        "import matplotlib.pyplot as plt\n",
        "import seaborn as sns"
      ],
      "execution_count": 2,
      "outputs": []
    },
    {
      "cell_type": "code",
      "metadata": {
        "id": "aUwdvtWSUsMZ"
      },
      "source": [
        "#leer los datos de entrenamiento\n",
        "MC = pd.read_csv(\"/content/Longitudes1.csv\", sep=\";\")"
      ],
      "execution_count": 3,
      "outputs": []
    },
    {
      "cell_type": "code",
      "metadata": {
        "id": "ziifWeI6U1TL"
      },
      "source": [
        "#separar los datos de entrada y salida\n",
        "M = MC[\"metro\"]\n",
        "C = MC[\"centimetro\"]"
      ],
      "execution_count": 5,
      "outputs": []
    },
    {
      "cell_type": "code",
      "metadata": {
        "id": "KAvsGaaVU6Y1"
      },
      "source": [
        "#creando el modelo de entrenamiento\n",
        "modelo = tf.keras.Sequential()\n",
        "modelo.add(tf.keras.layers.Dense(units=1, input_shape=[1]))"
      ],
      "execution_count": 6,
      "outputs": []
    },
    {
      "cell_type": "code",
      "metadata": {
        "id": "o-V0GamwU_GB"
      },
      "source": [
        "#compilar el modelo de entrenamiento\n",
        "modelo.compile(optimizer=tf.keras.optimizers.Adam(1),loss='mean_squared_error')"
      ],
      "execution_count": 7,
      "outputs": []
    },
    {
      "cell_type": "code",
      "metadata": {
        "id": "WeQaWDrZVAXe"
      },
      "source": [
        "#entrenar el modelo de IA METROS A CENTIMETROS\n",
        "hisotiral = modelo.fit(C,M,epochs=500, verbose=0)"
      ],
      "execution_count": 8,
      "outputs": []
    },
    {
      "cell_type": "code",
      "metadata": {
        "id": "RsLt0DMGVD5m"
      },
      "source": [
        "CM = modelo.predict([671])\n",
        "print(CM)"
      ],
      "execution_count": null,
      "outputs": []
    },
    {
      "cell_type": "code",
      "metadata": {
        "id": "-QZ8B9aqtW0S"
      },
      "source": [
        "MC = pd.read_csv(\"/content/Longitudes1.csv\", sep=\";\")"
      ],
      "execution_count": 43,
      "outputs": []
    },
    {
      "cell_type": "code",
      "metadata": {
        "id": "isrxMMYwtaDA"
      },
      "source": [
        "modelo = tf.keras.Sequential()\n",
        "modelo.add(tf.keras.layers.Dense(units=1, input_shape=[1]))"
      ],
      "execution_count": 44,
      "outputs": []
    },
    {
      "cell_type": "code",
      "metadata": {
        "id": "YDNxTQLttggL"
      },
      "source": [
        "modelo.compile(optimizer=tf.keras.optimizers.Adam(1),loss='mean_squared_error')\n"
      ],
      "execution_count": 45,
      "outputs": []
    },
    {
      "cell_type": "code",
      "metadata": {
        "colab": {
          "base_uri": "https://localhost:8080/"
        },
        "id": "AJa1APmzVMoz",
        "outputId": "a9a70f1f-f50f-43d0-ec5c-7ec098b503ba"
      },
      "source": [
        "etiquetas = [\n",
        "           [],\n",
        "           [\"1. METROS\", \"2. CENTIMETROS\", \"3. PULGADA\", \"4. PIE\", \"5. YARDA\", \"6. KILOMETRO\", \"7. MILLA\"],\n",
        "           []\n",
        "]\n",
        "\n",
        "print(\"MENU\")\n",
        "print(\"1 = LONGITUD\")\n",
        "\n",
        "conversor = int(input(\"Conversor: \"))\n",
        "\n",
        "print( etiquetas[conversor] )\n",
        "\n",
        "de = int(input(\"DE: \"))\n",
        "a = int(input(\"A: \"))\n",
        "cantidad = float(input(\"Cant: \"))\n",
        "\n",
        "if de==1:\n",
        "  X = MC[\"metro\"]\n",
        "if a==1:\n",
        "  Y = MC[\"metro\"]\n",
        "\n",
        "if de==2:\n",
        "  X = MC[\"centimetro\"]\n",
        "if a==2:\n",
        "  Y = MC[\"centimetro\"]\n",
        "\n",
        "if de==3:\n",
        "  X = MC[\"pulgada\"]\n",
        "if a==3:\n",
        "  Y = MC[\"pulgada\"]\n",
        "\n",
        "  if de==4:\n",
        "    X = MC[\"pie\"]\n",
        "if a==4:\n",
        "  Y = MC[\"pie\"]\n",
        "\n",
        "  if de==5:\n",
        "    X = MC[\"yarda\"]\n",
        "if a==5:\n",
        "  Y = MC[\"yarda\"]\n",
        "\n",
        "  if de==6:\n",
        "    X = MC[\"kilometro\"]\n",
        "if a==6:\n",
        "  Y = MC[\"kilometro\"]\n",
        "\n",
        "  if de==7:\n",
        "    X = MC[\"milla\"]\n",
        "if a==7:\n",
        "  Y = MC[\"milla\"]\n",
        "\n",
        "hisotiral = modelo.fit(X,Y,epochs=300, verbose=0)\n",
        "RES = modelo.predict([cantidad])\n",
        "print(RES)"
      ],
      "execution_count": 51,
      "outputs": [
        {
          "output_type": "stream",
          "name": "stdout",
          "text": [
            "MENU\n",
            "1 = LONGITUD\n",
            "Conversor: 1\n",
            "['1. METROS', '2. CENTIMETROS', '3. PULGADA', '4. PIE', '5. YARDA', '6. KILOMETRO', '7. MILLA']\n",
            "DE: 4\n",
            "A: 6\n",
            "Cant: 410.125\n",
            "[[0.12563297]]\n"
          ]
        }
      ]
    }
  ]
}